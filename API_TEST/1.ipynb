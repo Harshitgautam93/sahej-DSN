{
 "cells": [
  {
   "cell_type": "code",
   "execution_count": 1,
   "metadata": {},
   "outputs": [
    {
     "name": "stdout",
     "output_type": "stream",
     "text": [
      "{\"message\":\"no Route matched with those values\"}\n"
     ]
    }
   ],
   "source": [
    "import requests\n",
    "\n",
    "url = \"https://api.tomorrow.io/v4?apikey=<api>\"\n",
    "\n",
    "response = requests.get(url)\n",
    "\n",
    "print(response.text)"
   ]
  },
  {
   "cell_type": "code",
   "execution_count": 5,
   "metadata": {},
   "outputs": [
    {
     "name": "stdout",
     "output_type": "stream",
     "text": [
      "{'data': {'timelines': [{'timestep': '1h', 'endTime': '2024-12-02T00:00:00Z', 'startTime': '2024-12-01T00:00:00Z', 'intervals': [{'startTime': '2024-12-01T00:00:00Z', 'values': {'precipitationIntensity': 0, 'precipitationProbability': 0, 'rainIntensity': 0, 'temperature': 21.38}}, {'startTime': '2024-12-01T01:00:00Z', 'values': {'precipitationIntensity': 0, 'precipitationProbability': 0, 'rainIntensity': 0, 'temperature': 21.19}}, {'startTime': '2024-12-01T02:00:00Z', 'values': {'precipitationIntensity': 0, 'precipitationProbability': 0, 'rainIntensity': 0, 'temperature': 21.5}}, {'startTime': '2024-12-01T03:00:00Z', 'values': {'precipitationIntensity': 0, 'precipitationProbability': 0, 'rainIntensity': 0, 'temperature': 23.5}}, {'startTime': '2024-12-01T04:00:00Z', 'values': {'precipitationIntensity': 0, 'precipitationProbability': 0, 'rainIntensity': 0, 'temperature': 24.13}}, {'startTime': '2024-12-01T05:00:00Z', 'values': {'precipitationIntensity': 0, 'precipitationProbability': 0, 'rainIntensity': 0, 'temperature': 24.88}}, {'startTime': '2024-12-01T06:00:00Z', 'values': {'precipitationIntensity': 0, 'precipitationProbability': 0, 'rainIntensity': 0, 'temperature': 27.31}}, {'startTime': '2024-12-01T07:00:00Z', 'values': {'precipitationIntensity': 0, 'precipitationProbability': 0, 'rainIntensity': 0, 'temperature': 28.19}}, {'startTime': '2024-12-01T08:00:00Z', 'values': {'precipitationIntensity': 0, 'precipitationProbability': 0, 'rainIntensity': 0, 'temperature': 28.13}}, {'startTime': '2024-12-01T09:00:00Z', 'values': {'precipitationIntensity': 0, 'precipitationProbability': 0, 'rainIntensity': 0, 'temperature': 28.69}}, {'startTime': '2024-12-01T10:00:00Z', 'values': {'precipitationIntensity': 0, 'precipitationProbability': 0, 'rainIntensity': 0, 'temperature': 27.69}}, {'startTime': '2024-12-01T11:00:00Z', 'values': {'precipitationIntensity': 0.38, 'precipitationProbability': 25, 'rainIntensity': 0.38, 'temperature': 27.13}}, {'startTime': '2024-12-01T12:00:00Z', 'values': {'precipitationIntensity': 0.22, 'precipitationProbability': 20, 'rainIntensity': 0.22, 'temperature': 26}}, {'startTime': '2024-12-01T13:00:00Z', 'values': {'precipitationIntensity': 0.13, 'precipitationProbability': 15, 'rainIntensity': 0.13, 'temperature': 25.13}}, {'startTime': '2024-12-01T14:00:00Z', 'values': {'precipitationIntensity': 0.15, 'precipitationProbability': 15, 'rainIntensity': 0.15, 'temperature': 24.69}}, {'startTime': '2024-12-01T15:00:00Z', 'values': {'precipitationIntensity': 0.41, 'precipitationProbability': 10, 'rainIntensity': 0.41, 'temperature': 24.38}}, {'startTime': '2024-12-01T16:00:00Z', 'values': {'precipitationIntensity': 0.44, 'precipitationProbability': 98, 'rainIntensity': 0.44, 'temperature': 22.96}}, {'startTime': '2024-12-01T17:00:00Z', 'values': {'precipitationIntensity': 0.66, 'precipitationProbability': 77, 'rainIntensity': 0.66, 'temperature': 23.11}}, {'startTime': '2024-12-01T18:00:00Z', 'values': {'precipitationIntensity': 0.46, 'precipitationProbability': 38, 'rainIntensity': 0.46, 'temperature': 22.88}}, {'startTime': '2024-12-01T19:00:00Z', 'values': {'precipitationIntensity': 0, 'precipitationProbability': 0, 'rainIntensity': 0, 'temperature': 22.49}}, {'startTime': '2024-12-01T20:00:00Z', 'values': {'precipitationIntensity': 0, 'precipitationProbability': 0, 'rainIntensity': 0, 'temperature': 22.32}}, {'startTime': '2024-12-01T21:00:00Z', 'values': {'precipitationIntensity': 0.36, 'precipitationProbability': 20, 'rainIntensity': 0.36, 'temperature': 21.96}}, {'startTime': '2024-12-01T22:00:00Z', 'values': {'precipitationIntensity': 2.33, 'precipitationProbability': 20, 'rainIntensity': 2.33, 'temperature': 21.28}}, {'startTime': '2024-12-01T23:00:00Z', 'values': {'precipitationIntensity': 2.55, 'precipitationProbability': 25, 'rainIntensity': 2.55, 'temperature': 21.2}}, {'startTime': '2024-12-02T00:00:00Z', 'values': {'precipitationIntensity': 0.08, 'precipitationProbability': 25, 'rainIntensity': 0.08, 'temperature': 21.18}}]}]}}\n"
     ]
    }
   ],
   "source": [
    "import requests\n",
    "\n",
    "api_key = 'api'\n",
    "base_url = \"https://api.tomorrow.io/v4/timelines\"\n",
    "location = {\"latitude\": 20.2961, \"longitude\": 85.8245}  # New York City example\n",
    "fields = [\"temperature\", \"precipitationIntensity\", \"rainIntensity\", \"precipitationProbability\"]  # You can include more fields\n",
    "\n",
    "params = {\n",
    "    \"apikey\": api_key,\n",
    "    \"location\": f\"{location['latitude']},{location['longitude']}\",\n",
    "    \"fields\": fields,\n",
    "    \"timesteps\": \"1h\",  # Can also use '1d', 'current', etc.\n",
    "    \"units\": \"metric\",  # Use \"imperial\" for Fahrenheit\n",
    "    \"startTime\": \"2024-12-01T00:00:00Z\",  # Adjust the date\n",
    "    \"endTime\": \"2024-12-02T00:00:00Z\"     # Adjust the date\n",
    "}\n",
    "\n",
    "response = requests.get(base_url, params=params)\n",
    "\n",
    "if response.status_code == 200:\n",
    "    weather_data = response.json()\n",
    "    print(weather_data)\n",
    "else:\n",
    "    print(f\"Error: {response.status_code}, {response.text}\")\n"
   ]
  },
  {
   "cell_type": "code",
   "execution_count": null,
   "metadata": {},
   "outputs": [],
   "source": [
    "#  curl --request GET --url 'https://api.tomorrow.io/v4/weather/forecast?location=Bhubaneshwar&apikey=CjSqhFWM8OkJECQHrqnatyjED0MAe2Fl'"
   ]
  }
 ],
 "metadata": {
  "kernelspec": {
   "display_name": "Python 3",
   "language": "python",
   "name": "python3"
  },
  "language_info": {
   "codemirror_mode": {
    "name": "ipython",
    "version": 3
   },
   "file_extension": ".py",
   "mimetype": "text/x-python",
   "name": "python",
   "nbconvert_exporter": "python",
   "pygments_lexer": "ipython3",
   "version": "3.10.11"
  }
 },
 "nbformat": 4,
 "nbformat_minor": 2
}
